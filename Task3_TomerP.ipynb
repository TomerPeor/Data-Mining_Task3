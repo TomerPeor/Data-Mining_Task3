{
 "cells": [
  {
   "cell_type": "code",
   "execution_count": 130,
   "id": "a6d2d711-ca55-4af0-803f-f220f7396708",
   "metadata": {},
   "outputs": [],
   "source": [
    "import json\n",
    "import requests\n",
    "import urllib\n",
    "import pandas as pd"
   ]
  },
  {
   "cell_type": "code",
   "execution_count": 131,
   "id": "e1deca97-10e7-4837-adfc-f63a253f228d",
   "metadata": {},
   "outputs": [],
   "source": [
    "telaviv_dis = pd.DataFrame()"
   ]
  },
  {
   "cell_type": "code",
   "execution_count": 132,
   "id": "23235281-fee0-4b02-8fad-8d7df25909a7",
   "metadata": {},
   "outputs": [],
   "source": [
    "dests = open(\"C:\\\\Users\\\\97250\\\\Desktop\\\\תואר הנדסה\\\\שנה ג' סמסטר ב\\\\data mining\\\\Tasks\\\\3\\\\dests.txt\", 'r')\n",
    "destination = dests.read().splitlines() "
   ]
  },
  {
   "cell_type": "code",
   "execution_count": 133,
   "id": "6589de3a-51c0-4e0e-add2-719b86299178",
   "metadata": {},
   "outputs": [],
   "source": [
    "api_key = 'Please insert your api key here'"
   ]
  },
  {
   "cell_type": "markdown",
   "id": "bfd984a8-f073-467d-a8dc-42015fd64574",
   "metadata": {},
   "source": [
    "# Distance Matrix"
   ]
  },
  {
   "cell_type": "code",
   "execution_count": 134,
   "id": "8bba5d71-fca1-4b2f-9244-98e6b69f252d",
   "metadata": {},
   "outputs": [],
   "source": [
    "for i,city in enumerate(destination):\n",
    "    distance_params = {'origins': 'Tel Aviv', 'destinations': city,'key': api_key}\n",
    "    service_url = \"https://maps.googleapis.com/maps/api/distancematrix/json?\"\n",
    "    url = service_url + urllib.parse.urlencode(distance_params)\n",
    "    response = requests.get(url).json()\n",
    "    telaviv_dis.loc[i, 'Target']= response['destination_addresses'][0]\n",
    "    telaviv_dis.loc[i, 'Distance_km']= response['rows'][0]['elements'][0]['distance']['text']\n",
    "    telaviv_dis.loc[i, 'Duration (hour+minutes)']= response['rows'][0]['elements'][0]['duration']['text']"
   ]
  },
  {
   "cell_type": "markdown",
   "id": "a6a3de90-9e3a-4fa4-8629-3c5d6a726381",
   "metadata": {},
   "source": [
    "# GeoCode"
   ]
  },
  {
   "cell_type": "code",
   "execution_count": 136,
   "id": "0b4cfaf3-4d46-42ae-a0b6-f7e70f84dde4",
   "metadata": {},
   "outputs": [],
   "source": [
    "for i,city in enumerate(destination):\n",
    "    url = \"https://maps.googleapis.com/maps/api/geocode/json?address=%s&key=%s\" % (destination[i], api_key)\n",
    "    response = requests.get(url).json()\n",
    "    telaviv_dis.loc[i, 'Longitude'] = response['results'][0]['geometry']['location']['lng']\n",
    "    telaviv_dis.loc[i, 'Latitude'] = response['results'][0]['geometry']['location']['lat']"
   ]
  },
  {
   "cell_type": "code",
   "execution_count": 137,
   "id": "89732299-dfbd-4024-9234-453ccde0a07b",
   "metadata": {},
   "outputs": [
    {
     "data": {
      "text/html": [
       "<div>\n",
       "<style scoped>\n",
       "    .dataframe tbody tr th:only-of-type {\n",
       "        vertical-align: middle;\n",
       "    }\n",
       "\n",
       "    .dataframe tbody tr th {\n",
       "        vertical-align: top;\n",
       "    }\n",
       "\n",
       "    .dataframe thead th {\n",
       "        text-align: right;\n",
       "    }\n",
       "</style>\n",
       "<table border=\"1\" class=\"dataframe\">\n",
       "  <thead>\n",
       "    <tr style=\"text-align: right;\">\n",
       "      <th></th>\n",
       "      <th>Target</th>\n",
       "      <th>Distance_km</th>\n",
       "      <th>Duration (hour+minutes)</th>\n",
       "      <th>Longitude</th>\n",
       "      <th>Latitude</th>\n",
       "    </tr>\n",
       "  </thead>\n",
       "  <tbody>\n",
       "    <tr>\n",
       "      <th>0</th>\n",
       "      <td>İstanbul, Türkiye</td>\n",
       "      <td>1,815 km</td>\n",
       "      <td>21 hours 3 mins</td>\n",
       "      <td>28.978359</td>\n",
       "      <td>41.008238</td>\n",
       "    </tr>\n",
       "    <tr>\n",
       "      <th>1</th>\n",
       "      <td>Amsterdam, Netherlands</td>\n",
       "      <td>4,533 km</td>\n",
       "      <td>2 days 0 hours</td>\n",
       "      <td>4.904139</td>\n",
       "      <td>52.367573</td>\n",
       "    </tr>\n",
       "    <tr>\n",
       "      <th>2</th>\n",
       "      <td>Valletta, Malta</td>\n",
       "      <td>3,793 km</td>\n",
       "      <td>2 days 3 hours</td>\n",
       "      <td>14.514100</td>\n",
       "      <td>35.899237</td>\n",
       "    </tr>\n",
       "    <tr>\n",
       "      <th>3</th>\n",
       "      <td>Basel, Switzerland</td>\n",
       "      <td>4,094 km</td>\n",
       "      <td>1 day 20 hours</td>\n",
       "      <td>7.588576</td>\n",
       "      <td>47.559599</td>\n",
       "    </tr>\n",
       "    <tr>\n",
       "      <th>4</th>\n",
       "      <td>Doha, Qatar</td>\n",
       "      <td>2,164 km</td>\n",
       "      <td>22 hours 39 mins</td>\n",
       "      <td>51.531040</td>\n",
       "      <td>25.285447</td>\n",
       "    </tr>\n",
       "  </tbody>\n",
       "</table>\n",
       "</div>"
      ],
      "text/plain": [
       "                   Target Distance_km Duration (hour+minutes)  Longitude  \\\n",
       "0       İstanbul, Türkiye    1,815 km         21 hours 3 mins  28.978359   \n",
       "1  Amsterdam, Netherlands    4,533 km          2 days 0 hours   4.904139   \n",
       "2         Valletta, Malta    3,793 km          2 days 3 hours  14.514100   \n",
       "3      Basel, Switzerland    4,094 km          1 day 20 hours   7.588576   \n",
       "4             Doha, Qatar    2,164 km        22 hours 39 mins  51.531040   \n",
       "\n",
       "    Latitude  \n",
       "0  41.008238  \n",
       "1  52.367573  \n",
       "2  35.899237  \n",
       "3  47.559599  \n",
       "4  25.285447  "
      ]
     },
     "execution_count": 137,
     "metadata": {},
     "output_type": "execute_result"
    }
   ],
   "source": [
    "telaviv_dis"
   ]
  },
  {
   "cell_type": "markdown",
   "id": "eadb1b51-141e-4fd7-9ca9-3978272d59e3",
   "metadata": {},
   "source": [
    "#### 3 farthest cities"
   ]
  },
  {
   "cell_type": "code",
   "execution_count": 138,
   "id": "c9e00b40-f64a-4624-bf49-597610dd5043",
   "metadata": {},
   "outputs": [
    {
     "data": {
      "text/html": [
       "<div>\n",
       "<style scoped>\n",
       "    .dataframe tbody tr th:only-of-type {\n",
       "        vertical-align: middle;\n",
       "    }\n",
       "\n",
       "    .dataframe tbody tr th {\n",
       "        vertical-align: top;\n",
       "    }\n",
       "\n",
       "    .dataframe thead th {\n",
       "        text-align: right;\n",
       "    }\n",
       "</style>\n",
       "<table border=\"1\" class=\"dataframe\">\n",
       "  <thead>\n",
       "    <tr style=\"text-align: right;\">\n",
       "      <th></th>\n",
       "      <th>Target</th>\n",
       "      <th>Distance_km</th>\n",
       "      <th>Duration (hour+minutes)</th>\n",
       "      <th>Longitude</th>\n",
       "      <th>Latitude</th>\n",
       "    </tr>\n",
       "  </thead>\n",
       "  <tbody>\n",
       "    <tr>\n",
       "      <th>1</th>\n",
       "      <td>Amsterdam, Netherlands</td>\n",
       "      <td>4,533 km</td>\n",
       "      <td>2 days 0 hours</td>\n",
       "      <td>4.904139</td>\n",
       "      <td>52.367573</td>\n",
       "    </tr>\n",
       "    <tr>\n",
       "      <th>3</th>\n",
       "      <td>Basel, Switzerland</td>\n",
       "      <td>4,094 km</td>\n",
       "      <td>1 day 20 hours</td>\n",
       "      <td>7.588576</td>\n",
       "      <td>47.559599</td>\n",
       "    </tr>\n",
       "    <tr>\n",
       "      <th>2</th>\n",
       "      <td>Valletta, Malta</td>\n",
       "      <td>3,793 km</td>\n",
       "      <td>2 days 3 hours</td>\n",
       "      <td>14.514100</td>\n",
       "      <td>35.899237</td>\n",
       "    </tr>\n",
       "  </tbody>\n",
       "</table>\n",
       "</div>"
      ],
      "text/plain": [
       "                   Target Distance_km Duration (hour+minutes)  Longitude  \\\n",
       "1  Amsterdam, Netherlands    4,533 km          2 days 0 hours   4.904139   \n",
       "3      Basel, Switzerland    4,094 km          1 day 20 hours   7.588576   \n",
       "2         Valletta, Malta    3,793 km          2 days 3 hours  14.514100   \n",
       "\n",
       "    Latitude  \n",
       "1  52.367573  \n",
       "3  47.559599  \n",
       "2  35.899237  "
      ]
     },
     "execution_count": 138,
     "metadata": {},
     "output_type": "execute_result"
    }
   ],
   "source": [
    "telaviv_dis.sort_values('Distance_km', ascending=False).head(3)"
   ]
  }
 ],
 "metadata": {
  "kernelspec": {
   "display_name": "Python 3",
   "language": "python",
   "name": "python3"
  },
  "language_info": {
   "codemirror_mode": {
    "name": "ipython",
    "version": 3
   },
   "file_extension": ".py",
   "mimetype": "text/x-python",
   "name": "python",
   "nbconvert_exporter": "python",
   "pygments_lexer": "ipython3",
   "version": "3.8.8"
  }
 },
 "nbformat": 4,
 "nbformat_minor": 5
}
